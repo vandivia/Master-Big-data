{
 "cells": [
  {
   "cell_type": "code",
   "execution_count": 48,
   "metadata": {},
   "outputs": [],
   "source": [
    "#Crea un nuevo archivo csv denominado AcumAnnos.csv que contenga la frecuencia de los años.\n",
    "import csv\n",
    "\n",
    "#Open and prepare the csv file\n",
    "originalFile = open (\"/Users/vicmonmena/Veronica/Cursos/Business Analytics and Big Data/01Fundamentos tratamiento de datos para Data Science/05FundamentosDeTecnologiasDeInternet/Caso Practico/PitchingPost.csv\")\n",
    "readerObject = csv.reader (originalFile)\n",
    "\n",
    "#group the data by years in a dictionary\n",
    "frecuenciaAnno= {}\n",
    "next (readerObject, None)\n",
    "for row in readerObject:\n",
    "    if row[1] in frecuenciaAnno:\n",
    "        frecuenciaAnno[row[1]]= frecuenciaAnno[row[1]]+1\n",
    "    else:\n",
    "        frecuenciaAnno[row[1]]=1\n",
    "\n",
    "#Close the file\n",
    "originalFile.close()\n",
    "\n",
    "#Open file in append mode (a)\n",
    "finishFile= open (\"/Users/vicmonmena/Veronica/Cursos/Business Analytics and Big Data/01Fundamentos tratamiento de datos para Data Science/05FundamentosDeTecnologiasDeInternet/Caso Practico/AcumAnnos.csv\", \"a\")\n",
    "writerFile = csv.writer(finishFile)\n",
    "#write the headers\n",
    "writerFile.writerow ([\"Year\",\"frecuency\"])\n",
    "\n",
    "#write the values fron the dictionary\n",
    "for key, value in frecuenciaAnno.items() :\n",
    "    writerFile.writerow([key, value])\n",
    "\n",
    "finishFile.close()\n"
   ]
  },
  {
   "cell_type": "code",
   "execution_count": 52,
   "metadata": {},
   "outputs": [],
   "source": [
    "#Crea un nuevo archivo csv denominado AcumJugadores.csv que contenga la frecuencia de los jugadores.\n",
    "import csv\n",
    "\n",
    "#Open and prepare the csv file\n",
    "originalFile = open (\"/Users/vicmonmena/Veronica/Cursos/Business Analytics and Big Data/01Fundamentos tratamiento de datos para Data Science/05FundamentosDeTecnologiasDeInternet/Caso Practico/PitchingPost.csv\")\n",
    "readerObject = csv.reader (originalFile)\n",
    "\n",
    "#group the data by years in a dictionary\n",
    "frecuencyPlayer= {}\n",
    "next (readerObject, None)\n",
    "for row in readerObject:\n",
    "    if row[0] in frecuencyPlayer:\n",
    "        frecuencyPlayer[row[0]]= frecuencyPlayer[row[0]]+1\n",
    "    else:\n",
    "        frecuencyPlayer[row[0]]=1\n",
    "\n",
    "#Close the file\n",
    "originalFile.close()\n",
    "\n",
    "#Open file in append mode (a)\n",
    "finishFile= open (\"/Users/vicmonmena/Veronica/Cursos/Business Analytics and Big Data/01Fundamentos tratamiento de datos para Data Science/05FundamentosDeTecnologiasDeInternet/Caso Practico/AcumJugadores.csv\", \"a\")\n",
    "writerFile = csv.writer(finishFile)\n",
    "#write the headers\n",
    "writerFile.writerow ([\"Player\",\"frecuency\"])\n",
    "\n",
    "#write the values fron the dictionary\n",
    "for key, value in frecuencyPlayer.items() :\n",
    "    writerFile.writerow([key, value])\n",
    "\n",
    "finishFile.close()"
   ]
  },
  {
   "cell_type": "code",
   "execution_count": 4,
   "metadata": {},
   "outputs": [
    {
     "name": "stdout",
     "output_type": "stream",
     "text": [
      "archivo PitchingPost ordenado con éxito\n"
     ]
    }
   ],
   "source": [
    "#Crea un archivo ordenado.csv que ordene información por el nombre del jugador.\n",
    "import csv\n",
    "\n",
    "#Open and prepare the file\n",
    "originalFile = open (\"/Users/vicmonmena/Veronica/Cursos/Business Analytics and Big Data/01Fundamentos tratamiento de datos para Data Science/05FundamentosDeTecnologiasDeInternet/Caso Practico/PitchingPost.csv\")\n",
    "readerObject = csv.reader (originalFile)\n",
    "\n",
    "#Group the data in a list for sorted it after\n",
    "lista = []\n",
    "for linea in readerObject:\n",
    "    lista.append (linea)\n",
    "originalFile.close()\n",
    "lista.sort()\n",
    "\n",
    "#open the final file to write the results\n",
    "outFile=open(\"/Users/vicmonmena/Veronica/Cursos/Business Analytics and Big Data/01Fundamentos tratamiento de datos para Data Science/05FundamentosDeTecnologiasDeInternet/Caso Practico/Ordenado.csv\", \"w\")\n",
    "outwriter=csv.writer(outFile)\n",
    "\n",
    "# Going to write the ordered row\n",
    "for row in lista:\n",
    "    outwriter.writerow(row)\n",
    "outFile.close()\n",
    "print (\"archivo PitchingPost ordenado con éxito\")\n"
   ]
  },
  {
   "cell_type": "code",
   "execution_count": null,
   "metadata": {},
   "outputs": [],
   "source": []
  }
 ],
 "metadata": {
  "kernelspec": {
   "display_name": "Python 3",
   "language": "python",
   "name": "python3"
  },
  "language_info": {
   "codemirror_mode": {
    "name": "ipython",
    "version": 3
   },
   "file_extension": ".py",
   "mimetype": "text/x-python",
   "name": "python",
   "nbconvert_exporter": "python",
   "pygments_lexer": "ipython3",
   "version": "3.7.1"
  }
 },
 "nbformat": 4,
 "nbformat_minor": 2
}
