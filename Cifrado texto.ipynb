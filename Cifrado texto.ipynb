#Vamos a definir dos funciones, una cifrara un texto, y otra reordenara las palabras cifradas

#Definimos la funcion cifrar, que sustituye cada letra en el texto original por otra un número fijo de posiciones
#más adelante en el alfabeto, dado por el usuario. Sólo se codifican las letras.
def cifrar(texto, desp_letra):
    
    #Creamos una variable donde ir añadiendo el texto cifrado
    texto_interm=""

    #Vamos recorriendo el texto, moviendo la letra
    for caracter in texto:
        #Comprobamos que es una letra, pues el resto de elementos no hay que codificarlos
        if caracter.isalpha():
            #ord nos da el valor unicode de la letra, y le añadimos las posiciones dadas por el usuario
            texto_cifrado= ord(caracter)+ int(desp_letra)
            #comprobamos que el resultado se encuentra entre los valores de Ascii de letras, sino debemos restar 26
            if (texto_cifrado > 90 and texto_cifrado < 97) or (texto_cifrado > 122):
                texto_cifrado= texto_cifrado-26
            #Convertimos el valor ascii en una letra del alfabeto    
            texto_interm+= chr(texto_cifrado)
        else:
            texto_interm+= caracter
    print ("Mensaje codificado: " ,texto_interm)
    return texto_interm

#Definimos la función reordenar, que reordena las palabras cifradas
def reordenar(texto_interm, desp_palabra):
    
    #Creamos una variable donde ir añadiendo el resultado final
    resultado =""
    
    #Convertimos el texto en palabras sueltas para su procesamiento
    texto_final = intermedio.split()
    
    #Creamos una lista donde añadiremos las palabras separadas del texto a encriptar
    lista= texto_final[:]
    indice = []
    
    for i in range (0,len(texto_final)):
        indice.append((i + int(desp_palabra))% len(lista))
        lista[indice[i]]=texto_final[i]
    
    for j in range (0,len(lista)):
        resultado += "".join(lista[j])+ " "
        
    print ("\n Texto cifrado: " + resultado)

#Cuerpo principal del programa donde llamaremos a las funciones definidas anteriormente y mostraremos el texto cifrado
#Solicitamos al usuario los datos de entrada
texto = input ("introduzca el texto a codificar: ")
desp_letra = input ("desplazamiento de letra: ")
desp_palabra = input ("desplazamiento de palabra: ")
    
#Comprobamos que los desplazamientos introducidos son numéricos y en caso afirmativo llamamos a la función cifrado.
if desp_letra.isdigit() and desp_palabra.isdigit():
    intermedio = cifrar(texto, desp_letra)
    reordenar (intermedio, desp_palabra)
else:
    print ("Por favor, revise los datos introducidos: ")
